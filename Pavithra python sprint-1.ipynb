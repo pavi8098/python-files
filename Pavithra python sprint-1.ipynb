{
 "cells": [
  {
   "cell_type": "code",
   "execution_count": 5,
   "id": "976ef3bc-1cef-4102-ab4e-01b12b53cf86",
   "metadata": {},
   "outputs": [
    {
     "name": "stdout",
     "output_type": "stream",
     "text": [
      "[1 2 3]\n"
     ]
    }
   ],
   "source": [
    "#Task-1 Save the employee ID in separate ID array ,one for each department and print them.\n",
    "import numpy as np\n",
    "HR=np.array(np.arange(1,4))\n",
    "print(HR)  \n",
    "#Interpretation:\n",
    "#Created and printed the array of employee ID of HR department."
   ]
  },
  {
   "cell_type": "code",
   "execution_count": 7,
   "id": "6e659abe-034d-4011-9f22-c7f1ad457516",
   "metadata": {},
   "outputs": [
    {
     "name": "stdout",
     "output_type": "stream",
     "text": [
      "[ 4  5  6  7  8  9 10 11 12 13 14 15 16 17 18]\n"
     ]
    }
   ],
   "source": [
    "IT=np.array(np.arange(4,19))\n",
    "print(IT)  \n",
    "#Interpretation:\n",
    "#Created and printed the array of employee ID of IT department."
   ]
  },
  {
   "cell_type": "code",
   "execution_count": 9,
   "id": "0ac9a034-9c94-422d-b5ce-6bd83d3a4a2d",
   "metadata": {},
   "outputs": [
    {
     "name": "stdout",
     "output_type": "stream",
     "text": [
      "[19 20 21 22 23]\n"
     ]
    }
   ],
   "source": [
    "Finance=np.array(np.arange(19,24))\n",
    "print(Finance)   \n",
    "#Interpretation:\n",
    "#Created and printed the array of employee ID of Finance department."
   ]
  },
  {
   "cell_type": "code",
   "execution_count": 11,
   "id": "b7bdc3ad-25af-4780-82b6-20762014495e",
   "metadata": {},
   "outputs": [
    {
     "name": "stdout",
     "output_type": "stream",
     "text": [
      "[24 25 26 27 28 29 30]\n"
     ]
    }
   ],
   "source": [
    "Sales=np.array(np.arange(24,31))\n",
    "print(Sales)  \n",
    "#Interpretation:\n",
    "#Created and printed the array of employee ID of Sales department."
   ]
  },
  {
   "cell_type": "code",
   "execution_count": 13,
   "id": "87ec9cff-ab34-440c-97c1-c13063f8a2ba",
   "metadata": {},
   "outputs": [
    {
     "name": "stdout",
     "output_type": "stream",
     "text": [
      "[50000 60000 57000]\n"
     ]
    }
   ],
   "source": [
    "#Task-2   Create four different ID array to hold only the salaries of employees:\n",
    "HR_sal=np.array([50000,60000,57000])\n",
    "print(HR_sal)  \n",
    "\n",
    "#Interpretation:\n",
    "#Assigned salary for each employees in HR department."
   ]
  },
  {
   "cell_type": "code",
   "execution_count": 15,
   "id": "e056ac79-d548-4df7-992e-c230ae1daa7b",
   "metadata": {},
   "outputs": [
    {
     "name": "stdout",
     "output_type": "stream",
     "text": [
      "[67000 67000 67000 67000 67000 67000 67000 67000 67000 67000 67000 67000\n",
      " 67000 67000 67000]\n"
     ]
    }
   ],
   "source": [
    "IT_sal=np.array([67000]*15)\n",
    "print(IT_sal)   \n",
    "\n",
    "#Interpretation:\n",
    "#Assigned salary for each employees in IT department.\n",
    "#All 15 employees got same salary=67000."
   ]
  },
  {
   "cell_type": "code",
   "execution_count": 17,
   "id": "a975a0e5-93b3-485b-8c16-fb14241bd5e2",
   "metadata": {},
   "outputs": [
    {
     "name": "stdout",
     "output_type": "stream",
     "text": [
      "[60000 65000 50000 70000 87000]\n"
     ]
    }
   ],
   "source": [
    "Fin_sal=np.array([60000,65000,50000,70000,87000])\n",
    "print(Fin_sal)\n",
    "\n",
    "#Interpretation:\n",
    "#Assigned salary for each employees in Finance department."
   ]
  },
  {
   "cell_type": "code",
   "execution_count": 19,
   "id": "8610f6ad-086d-4d7d-ade4-9020be5d92f0",
   "metadata": {},
   "outputs": [
    {
     "name": "stdout",
     "output_type": "stream",
     "text": [
      "[50000 60000 65000 90000 56000 65000 71000]\n"
     ]
    }
   ],
   "source": [
    "Sales_sal=np.array([50000,60000,65000,90000,56000,65000,71000])\n",
    "print(Sales_sal)\n",
    "\n",
    "#Interpretation:\n",
    "#Assigned salary for each employees in Sales department."
   ]
  },
  {
   "cell_type": "code",
   "execution_count": 21,
   "id": "4b818565-40eb-4358-9976-767749e6313a",
   "metadata": {},
   "outputs": [
    {
     "data": {
      "text/plain": [
       "55666.666666666664"
      ]
     },
     "execution_count": 21,
     "metadata": {},
     "output_type": "execute_result"
    }
   ],
   "source": [
    "#Task-3 Calculate department-wise average salary of all 30 employees:\n",
    "HR_sal.mean()  \n",
    "\n",
    "#Interpretation:\n",
    "#Displayed HR department average salary."
   ]
  },
  {
   "cell_type": "code",
   "execution_count": 23,
   "id": "6ee38c4d-21ef-470d-9c7b-b1809b98d6ba",
   "metadata": {},
   "outputs": [
    {
     "data": {
      "text/plain": [
       "67000.0"
      ]
     },
     "execution_count": 23,
     "metadata": {},
     "output_type": "execute_result"
    }
   ],
   "source": [
    "IT_sal.mean()\n",
    "\n",
    "#Interpretation:\n",
    "#Displayed IT department average salary."
   ]
  },
  {
   "cell_type": "code",
   "execution_count": 25,
   "id": "2221070e-9552-4a96-ba59-d523fa273909",
   "metadata": {},
   "outputs": [
    {
     "data": {
      "text/plain": [
       "66400.0"
      ]
     },
     "execution_count": 25,
     "metadata": {},
     "output_type": "execute_result"
    }
   ],
   "source": [
    "Fin_sal.mean()\n",
    "\n",
    "#Interpretation:\n",
    "#Displayed Finance department average salary."
   ]
  },
  {
   "cell_type": "code",
   "execution_count": 27,
   "id": "ebe48535-5c70-4f23-a5a6-78798ce59891",
   "metadata": {},
   "outputs": [
    {
     "data": {
      "text/plain": [
       "65285.71428571428"
      ]
     },
     "execution_count": 27,
     "metadata": {},
     "output_type": "execute_result"
    }
   ],
   "source": [
    "Sales_sal.mean()\n",
    "\n",
    "#Interpretation:\n",
    "#Displayed Sales department average salary."
   ]
  },
  {
   "cell_type": "code",
   "execution_count": 29,
   "id": "03495b64-cf58-4121-96d9-3433714b2002",
   "metadata": {},
   "outputs": [
    {
     "name": "stdout",
     "output_type": "stream",
     "text": [
      "60000\n"
     ]
    }
   ],
   "source": [
    "#Department with highest average salary expense on employees:\n",
    "a=print(max(HR_sal))"
   ]
  },
  {
   "cell_type": "code",
   "execution_count": 31,
   "id": "3fb7b098-b63e-450c-beb9-c7e5a8ce1efc",
   "metadata": {},
   "outputs": [
    {
     "name": "stdout",
     "output_type": "stream",
     "text": [
      "67000\n"
     ]
    }
   ],
   "source": [
    "b=print(max(IT_sal))"
   ]
  },
  {
   "cell_type": "code",
   "execution_count": 33,
   "id": "0d07ef34-28a9-4c72-9c4e-262e43670a1b",
   "metadata": {},
   "outputs": [
    {
     "name": "stdout",
     "output_type": "stream",
     "text": [
      "87000\n"
     ]
    }
   ],
   "source": [
    "c=print(max(Fin_sal))"
   ]
  },
  {
   "cell_type": "code",
   "execution_count": 35,
   "id": "88d4b754-23f0-494b-988e-4fb4b09d73e3",
   "metadata": {},
   "outputs": [
    {
     "name": "stdout",
     "output_type": "stream",
     "text": [
      "90000\n"
     ]
    }
   ],
   "source": [
    "d=print(max(Sales_sal))"
   ]
  },
  {
   "cell_type": "code",
   "execution_count": 63,
   "id": "1c1a8f1f-ad92-4e8e-b639-206f0ea035d2",
   "metadata": {},
   "outputs": [
    {
     "data": {
      "text/plain": [
       "67000.0"
      ]
     },
     "execution_count": 63,
     "metadata": {},
     "output_type": "execute_result"
    }
   ],
   "source": [
    "#Department with highest average salary expense on employees:\n",
    "v=max(HR_sal.mean(),IT_sal.mean(),Fin_sal.mean(),Sales_sal.mean())\n",
    "v"
   ]
  },
  {
   "cell_type": "code",
   "execution_count": 43,
   "id": "0556d940-06d0-4cfc-a7f1-67da5ffa0c63",
   "metadata": {},
   "outputs": [
    {
     "data": {
      "text/plain": [
       "60000"
      ]
     },
     "execution_count": 43,
     "metadata": {},
     "output_type": "execute_result"
    }
   ],
   "source": [
    "#Task-4 List the highest salaries in HR and Finance departments:\n",
    "np.max(HR_sal)\n",
    "\n",
    "#Interpretation:\n",
    "#Displayed the highest salary of HR department."
   ]
  },
  {
   "cell_type": "code",
   "execution_count": 45,
   "id": "3063b4e3-54df-4c28-842e-d43628e90efc",
   "metadata": {},
   "outputs": [
    {
     "data": {
      "text/plain": [
       "87000"
      ]
     },
     "execution_count": 45,
     "metadata": {},
     "output_type": "execute_result"
    }
   ],
   "source": [
    "np.max(Fin_sal)\n",
    "\n",
    "#Interpretation:\n",
    "#Displayed the highest salary of HR department."
   ]
  },
  {
   "cell_type": "code",
   "execution_count": 47,
   "id": "e63cbb56-fca6-4d72-8313-808fa1d03a86",
   "metadata": {},
   "outputs": [
    {
     "data": {
      "text/plain": [
       "array([70350., 70350., 70350., 70350., 70350., 70350., 70350., 70350.,\n",
       "       70350., 70350., 70350., 70350., 70350., 70350., 70350.])"
      ]
     },
     "execution_count": 47,
     "metadata": {},
     "output_type": "execute_result"
    }
   ],
   "source": [
    "#Task-5 The company has decided to joining/signing bonus worth 5% of gross salary\n",
    "#to those employees who belongs to the IT department.Update the salary of such employees after adding the bonus.Display the]\n",
    "#updated salaries:\n",
    "\n",
    "IT_sal=np.array([67000]*15)\n",
    "IT_sal\n",
    "\n",
    "bonus=5/100\n",
    "\n",
    "update=IT_sal*bonus\n",
    "\n",
    "x=update+IT_sal\n",
    "x             \n",
    "\n",
    "#Interpretation:\n",
    "#Updated the salary of employees in IT dept by adding the bonus. Thus, displayed the updated salaries."
   ]
  },
  {
   "cell_type": "code",
   "execution_count": 49,
   "id": "50d693d3-c01d-4962-b23f-13c13a899e23",
   "metadata": {},
   "outputs": [
    {
     "data": {
      "text/plain": [
       "1055250.0"
      ]
     },
     "execution_count": 49,
     "metadata": {},
     "output_type": "execute_result"
    }
   ],
   "source": [
    "y=sum(update+IT_sal)\n",
    "y #Total of salaries after updated."
   ]
  },
  {
   "cell_type": "code",
   "execution_count": 235,
   "id": "23efd8fb-88b8-4736-a8b0-f0ae93f3eb0a",
   "metadata": {},
   "outputs": [
    {
     "data": {
      "text/plain": [
       "1055250.0"
      ]
     },
     "execution_count": 235,
     "metadata": {},
     "output_type": "execute_result"
    }
   ],
   "source": [
    "sum(x)  #Total of salaries after updated."
   ]
  },
  {
   "cell_type": "code",
   "execution_count": 7,
   "id": "6bc860a0-5e55-45d7-a09f-4dce7b796031",
   "metadata": {},
   "outputs": [
    {
     "data": {
      "text/plain": [
       "array([[  1.  , 337.  , 118.  , ...,   9.65,   1.  ,   0.92],\n",
       "       [  2.  , 324.  , 107.  , ...,   8.87,   1.  ,   0.76],\n",
       "       [  3.  , 316.  , 104.  , ...,   8.  ,   1.  ,   0.72],\n",
       "       ...,\n",
       "       [398.  , 330.  , 116.  , ...,   9.45,   1.  ,   0.91],\n",
       "       [399.  , 312.  , 103.  , ...,   8.78,   0.  ,   0.67],\n",
       "       [400.  , 333.  , 117.  , ...,   9.66,   1.  ,   0.95]])"
      ]
     },
     "execution_count": 7,
     "metadata": {},
     "output_type": "execute_result"
    }
   ],
   "source": [
    "#University admission decision:\n",
    "\n",
    "#Task-1 Import the data file into 2D array.Display the total number of rows and columns in the array:\n",
    "\n",
    "adm_data=np.genfromtxt(r'DS1_C4_S1_AdmissionPredict_Data_Practice__1_.csv',delimiter=',',skip_header=True)\n",
    "adm_data     "
   ]
  },
  {
   "cell_type": "code",
   "execution_count": 9,
   "id": "bcdc39a9-3e3c-422d-8c54-ddbcb24796d2",
   "metadata": {},
   "outputs": [
    {
     "name": "stdout",
     "output_type": "stream",
     "text": [
      "Row: 400\n",
      "Column: 9\n"
     ]
    }
   ],
   "source": [
    "row=adm_data.shape[0]\n",
    "print('Row:',row)\n",
    "\n",
    "column=adm_data.shape[1]\n",
    "print('Column:',column)\n",
    "\n",
    "#Interpretation:\n",
    "#Row=400 and Column=9\n",
    "#Displayed the total number of rows and columns in 2D array."
   ]
  },
  {
   "cell_type": "code",
   "execution_count": 11,
   "id": "2a3163a3-79f3-4170-a61f-9a6c1a88f068",
   "metadata": {},
   "outputs": [
    {
     "data": {
      "text/plain": [
       "array([337., 324., 316., 322., 314., 330., 321., 308., 302., 323., 325.,\n",
       "       327., 328., 307., 311., 314., 317., 319., 318., 303., 312., 325.,\n",
       "       328., 334., 336., 340., 322., 298., 295., 310., 300., 327., 338.,\n",
       "       340., 331., 320., 299., 300., 304., 307., 308., 316., 313., 332.,\n",
       "       326., 322., 329., 339., 321., 327., 313., 312., 334., 324., 322.,\n",
       "       320., 316., 298., 300., 311., 309., 307., 304., 315., 325., 325.,\n",
       "       327., 316., 318., 328., 332., 336., 321., 314., 314., 329., 327.,\n",
       "       301., 296., 294., 312., 340., 320., 322., 340., 319., 315., 317.,\n",
       "       314., 316., 318., 299., 298., 301., 303., 304., 306., 331., 332.,\n",
       "       323., 322., 312., 314., 317., 326., 316., 329., 338., 331., 304.,\n",
       "       305., 321., 301., 320., 311., 310., 299., 290., 296., 327., 335.,\n",
       "       334., 310., 308., 301., 300., 323., 319., 326., 333., 339., 303.,\n",
       "       309., 323., 333., 314., 312., 316., 326., 318., 329., 332., 331.,\n",
       "       340., 325., 320., 315., 326., 339., 311., 334., 332., 321., 324.,\n",
       "       326., 312., 315., 309., 306., 297., 315., 298., 318., 317., 329.,\n",
       "       322., 302., 313., 293., 311., 312., 334., 322., 323., 321., 320.,\n",
       "       329., 319., 309., 307., 300., 305., 299., 314., 316., 327., 317.,\n",
       "       335., 331., 324., 324., 323., 322., 336., 316., 307., 306., 310.,\n",
       "       311., 313., 317., 315., 340., 334., 298., 295., 315., 310., 305.,\n",
       "       301., 325., 328., 338., 333., 331., 330., 322., 321., 324., 312.,\n",
       "       313., 316., 324., 308., 305., 296., 306., 312., 318., 324., 313.,\n",
       "       319., 312., 304., 330., 326., 325., 329., 310., 299., 296., 317.,\n",
       "       324., 325., 314., 328., 316., 311., 324., 321., 320., 316., 318.,\n",
       "       335., 321., 307., 309., 324., 326., 331., 327., 312., 308., 324.,\n",
       "       325., 313., 312., 314., 327., 308., 306., 299., 294., 312., 315.,\n",
       "       322., 329., 320., 308., 304., 311., 317., 312., 321., 340., 331.,\n",
       "       336., 324., 314., 313., 307., 300., 302., 312., 316., 317., 310.,\n",
       "       320., 330., 305., 309., 319., 322., 323., 313., 321., 323., 325.,\n",
       "       312., 308., 320., 328., 311., 301., 305., 308., 298., 300., 324.,\n",
       "       327., 317., 323., 314., 305., 315., 326., 299., 295., 324., 297.,\n",
       "       327., 311., 308., 319., 312., 325., 319., 332., 323., 324., 312.,\n",
       "       326., 308., 305., 295., 316., 304., 299., 302., 313., 318., 325.,\n",
       "       303., 300., 297., 317., 327., 301., 314., 321., 322., 334., 338.,\n",
       "       306., 313., 330., 320., 311., 298., 301., 310., 324., 336., 321.,\n",
       "       315., 304., 297., 290., 303., 311., 322., 319., 324., 300., 340.,\n",
       "       335., 302., 307., 296., 320., 314., 318., 326., 317., 329., 324.,\n",
       "       325., 330., 312., 333.])"
      ]
     },
     "execution_count": 11,
     "metadata": {},
     "output_type": "execute_result"
    }
   ],
   "source": [
    "#Task-2 Display the GRE score of all the students:NOTE:Slice only one column from 2D array:\n",
    "adm_data[:,1]   \n",
    "\n",
    "#Interpretation:\n",
    "#Displayed all students GRE score."
   ]
  },
  {
   "cell_type": "code",
   "execution_count": 13,
   "id": "62e59df5-ce1c-4829-92f1-091174c5b824",
   "metadata": {},
   "outputs": [
    {
     "name": "stdout",
     "output_type": "stream",
     "text": [
      "[[  1.   337.   118.   ...   9.65   1.     0.92]\n",
      " [  2.   324.   107.   ...   8.87   1.     0.76]\n",
      " [  4.   322.   110.   ...   8.67   1.     0.8 ]\n",
      " ...\n",
      " [397.   325.   107.   ...   9.11   1.     0.84]\n",
      " [398.   330.   116.   ...   9.45   1.     0.91]\n",
      " [400.   333.   117.   ...   9.66   1.     0.95]]\n",
      "Total row: 163\n",
      "Total column: 9\n"
     ]
    }
   ],
   "source": [
    "#Task-3 Find total number of students who have GRE score greater than 320:\n",
    "x=adm_data[adm_data[:,1]>320]\n",
    "print(x)\n",
    "\n",
    "y=adm_data[adm_data[:,1]>320].shape[0]\n",
    "print('Total row:',y)\n",
    "\n",
    "z=adm_data[adm_data[:,1]>320].shape[1]\n",
    "print('Total column:',z)\n",
    "\n",
    "#Interpretation:\n",
    "#Under this task I has used shape function to find the total number of students whose grace marks is greater than 320."
   ]
  },
  {
   "cell_type": "code",
   "execution_count": 15,
   "id": "30d40234-0616-43aa-befa-ce2019a697e9",
   "metadata": {},
   "outputs": [
    {
     "name": "stdout",
     "output_type": "stream",
     "text": [
      "[92. 90. 84. 78. 70. 94. 95. 97. 94. 91. 90. 94. 87. 91. 86. 89. 78. 78.\n",
      " 72. 52. 55. 61. 78. 94. 96. 93. 72. 74. 96. 92. 94. 86. 90. 79. 74. 87.\n",
      " 91. 93. 94. 94. 85. 78. 84. 92. 96. 79. 89. 80. 90. 92. 97. 80. 81. 83.\n",
      " 96. 93. 94. 86. 81. 89. 89. 87. 85. 90. 89. 93. 93. 88. 90. 86. 94. 97.\n",
      " 97. 95. 96. 94. 93. 91. 76. 71. 82. 91. 88. 85. 86. 70. 76. 77. 93. 85.\n",
      " 90. 70. 83. 89. 80. 94. 93. 92. 89. 86. 90. 71. 80. 79. 80. 81. 80. 80.\n",
      " 83. 94. 93. 91. 86. 95. 96. 96. 84. 89. 91. 95.]\n"
     ]
    }
   ],
   "source": [
    "#Task-4 What is the chance of admission of student who have a TOEFL score greater than 110?Display the \n",
    "#admission chance as percentage number by multiplying each value in the output by 100:\n",
    "#Hint:Identify the index location of students who satisfying the above condition.\n",
    "\n",
    "chance_admission_percent=adm_data[adm_data[:,2]>110][:,8]*100\n",
    "print(chance_admission_percent)\n",
    "\n",
    "#Interpretation:\n",
    "#Under this task I used slicing to find the chance admission column and TOFEL score whose TOFEL score is greater than 110 \n",
    "#even multiplied the chance admit with 100 to show as a percentage and printed the answer."
   ]
  },
  {
   "cell_type": "code",
   "execution_count": 39,
   "id": "7ea07ff0-f32c-4c12-aa3d-a6c949d6035d",
   "metadata": {},
   "outputs": [
    {
     "data": {
      "text/plain": [
       "41"
      ]
     },
     "execution_count": 39,
     "metadata": {},
     "output_type": "execute_result"
    }
   ],
   "source": [
    "#Task-5 The university decided to offer scholarship worth $1000 to all students who have GRE score greater than 315,\n",
    "#TOFEL score greater than 115 and have some research experience.Determine the total number of students eligible for the \n",
    "#scholarship.Also display the serial number of these students.\n",
    "#Hint:Identify the index position of the rows satisfying the above condition and then use this data to find a serial number of students.\n",
    "\n",
    "\n",
    "adm_data[(adm_data[:,1]>315) & (adm_data[:,2]>115) & (adm_data[:,7]==1)].shape[0]   \n",
    "\n",
    "#Interpretation:\n",
    "#Displayed total number of students eligible for scholarship is 41."
   ]
  }
 ],
 "metadata": {
  "kernelspec": {
   "display_name": "Python 3 (ipykernel)",
   "language": "python",
   "name": "python3"
  },
  "language_info": {
   "codemirror_mode": {
    "name": "ipython",
    "version": 3
   },
   "file_extension": ".py",
   "mimetype": "text/x-python",
   "name": "python",
   "nbconvert_exporter": "python",
   "pygments_lexer": "ipython3",
   "version": "3.12.4"
  }
 },
 "nbformat": 4,
 "nbformat_minor": 5
}
